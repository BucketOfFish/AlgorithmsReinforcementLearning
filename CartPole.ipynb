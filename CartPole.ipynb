{
 "cells": [
  {
   "cell_type": "code",
   "execution_count": 1,
   "metadata": {},
   "outputs": [],
   "source": [
    "import gym\n",
    "import numpy as np\n",
    "import matplotlib.pyplot as plt\n",
    "\n",
    "%matplotlib inline\n",
    "from JSAnimation.IPython_display import display_animation\n",
    "from matplotlib import animation\n",
    "from IPython.display import display"
   ]
  },
  {
   "cell_type": "code",
   "execution_count": 2,
   "metadata": {},
   "outputs": [],
   "source": [
    "def display_frames_as_gif(frames):\n",
    "    patch = plt.imshow(frames[0][0])\n",
    "    print(frames[0][1])\n",
    "    plt.axis('off')\n",
    "    \n",
    "    def animate(i):\n",
    "        patch.set_data(frames[i][0])\n",
    "        print(frames[i][1])\n",
    "\n",
    "    anim = animation.FuncAnimation(plt.gcf(), animate, frames=len(frames), interval=50)\n",
    "    display(display_animation(anim, default_mode='once'))"
   ]
  },
  {
   "cell_type": "code",
   "execution_count": 3,
   "metadata": {},
   "outputs": [],
   "source": [
    "env = gym.make(\"CartPole-v0\")"
   ]
  },
  {
   "cell_type": "code",
   "execution_count": 4,
   "metadata": {},
   "outputs": [],
   "source": [
    "import torch\n",
    "from torch import nn\n",
    "import torch.nn.functional as F\n",
    "from torch.distributions import Categorical\n",
    "\n",
    "class QualityNet(nn.Module):\n",
    "    '''Takes a state and returns probabilities for each action.'''\n",
    "    def __init__(self):\n",
    "        super().__init__()\n",
    "        self.layer_1 = nn.Linear(4, 16)\n",
    "        self.layer_2 = nn.Linear(16, 16)\n",
    "        self.layer_3 = nn.Linear(16, 2)\n",
    "    def forward(self, state):\n",
    "        x = torch.Tensor(state)\n",
    "        x = F.relu(self.layer_1(x))\n",
    "        x = F.relu(self.layer_2(x))\n",
    "        x = self.layer_3(x)\n",
    "        return x\n",
    "Q = QualityNet()\n",
    "\n",
    "epsilon = 1\n",
    "def policy(state):\n",
    "    global epsilon\n",
    "    action_probabilities = F.softmax(Q(state))\n",
    "    if np.random.uniform(0, 1) < epsilon:\n",
    "        action = np.random.choice(env.action_space.n)\n",
    "        epsilon *= 0.999\n",
    "    else:\n",
    "        #action = Categorical(action_probabilities).sample().item()\n",
    "        max_prob, action = torch.max(action_probabilities, dim=0)\n",
    "        action = action.numpy()\n",
    "        #print(state, Q(state))\n",
    "    return action"
   ]
  },
  {
   "cell_type": "code",
   "execution_count": 18,
   "metadata": {},
   "outputs": [],
   "source": [
    "from torch import optim\n",
    "\n",
    "class MemoryBank():\n",
    "    def __init__(self):\n",
    "        self.memories = []\n",
    "        self.n_replay = 50\n",
    "        self.gamma = 0.95\n",
    "        self.learning_rate = 1\n",
    "        self.optimizer = optim.Adam(Q.parameters(), lr=self.learning_rate)\n",
    "        self.loss_function = nn.MSELoss()\n",
    "    def remember(self, memory):\n",
    "        self.memories.append(memory)\n",
    "    def recall(self):\n",
    "        return self.memories[np.random.randint(len(self.memories))]\n",
    "    def recall_and_learn(self):\n",
    "        if len(self.memories) < self.n_replay*10:\n",
    "            return\n",
    "        for _ in range(self.n_replay):\n",
    "            state, action, reward, new_state, game_over = self.recall()\n",
    "            old_quality = Q(state)[action]\n",
    "            if (game_over):\n",
    "                new_quality = torch.Tensor([reward])\n",
    "            else:\n",
    "                new_quality = reward + self.gamma*target_Q(new_state)[torch.max(Q(new_state), dim=0)[1]]\n",
    "            loss = self.loss_function(old_quality, new_quality)\n",
    "            self.optimizer.zero_grad()\n",
    "            loss.backward()\n",
    "            self.optimizer.step()\n",
    "            self.learning_rate *= 0.999\n",
    "            if (self.learning_rate < 0.0001):\n",
    "                self.learning_rate = 0.0001\n",
    "memory = MemoryBank()"
   ]
  },
  {
   "cell_type": "code",
   "execution_count": 19,
   "metadata": {},
   "outputs": [
    {
     "name": "stderr",
     "output_type": "stream",
     "text": [
      "/Users/matt/py3_kernel/lib/python3.7/site-packages/ipykernel_launcher.py:24: UserWarning: Implicit dimension choice for softmax has been deprecated. Change the call to include dim=X as an argument.\n"
     ]
    },
    {
     "name": "stdout",
     "output_type": "stream",
     "text": [
      "Finished playing  10  games.\n",
      "Finished playing  20  games.\n",
      "Finished playing  30  games.\n",
      "Finished playing  40  games.\n",
      "Finished playing  50  games.\n",
      "Finished playing  60  games.\n",
      "Finished playing  70  games.\n",
      "Finished playing  80  games.\n",
      "Finished playing  90  games.\n",
      "Finished playing  100  games.\n",
      "Finished playing  110  games.\n",
      "Finished playing  120  games.\n",
      "Finished playing  130  games.\n",
      "Finished playing  140  games.\n",
      "Finished playing  150  games.\n",
      "Finished playing  160  games.\n",
      "Finished playing  170  games.\n",
      "Finished playing  180  games.\n",
      "Finished playing  190  games.\n",
      "Finished playing  200  games.\n",
      "Finished playing  210  games.\n",
      "Finished playing  220  games.\n",
      "Finished playing  230  games.\n",
      "Finished playing  240  games.\n",
      "Finished playing  250  games.\n",
      "Finished playing  260  games.\n",
      "Finished playing  270  games.\n",
      "Finished playing  280  games.\n",
      "Finished playing  290  games.\n",
      "Finished playing  300  games.\n",
      "Finished playing  310  games.\n",
      "Finished playing  320  games.\n",
      "Finished playing  330  games.\n",
      "Finished playing  340  games.\n",
      "Finished playing  350  games.\n",
      "Finished playing  360  games.\n",
      "Finished playing  370  games.\n",
      "Finished playing  380  games.\n",
      "Finished playing  390  games.\n",
      "Finished playing  400  games.\n",
      "Finished playing  410  games.\n",
      "Finished playing  420  games.\n",
      "Finished playing  430  games.\n",
      "Finished playing  440  games.\n",
      "Finished playing  450  games.\n",
      "Finished playing  460  games.\n",
      "Finished playing  470  games.\n",
      "Finished playing  480  games.\n",
      "Finished playing  490  games.\n",
      "Finished playing  500  games.\n"
     ]
    }
   ],
   "source": [
    "import copy\n",
    "\n",
    "training_history = []\n",
    "frames = []\n",
    "n_games = 500\n",
    "target_Q = copy.deepcopy(Q)\n",
    "\n",
    "for n in range(n_games):\n",
    "    game_over = False\n",
    "    state = env.reset()\n",
    "    game_reward = 0\n",
    "    while not game_over:\n",
    "        action = policy(state)\n",
    "        new_state, reward, game_over, _ = env.step(action)\n",
    "        #print(new_state, reward, game_over)\n",
    "        memory.remember((state, action, reward, new_state, game_over))\n",
    "        memory.recall_and_learn()\n",
    "        state = new_state\n",
    "        game_reward += reward\n",
    "        #if n == n_games-1:\n",
    "            #frames.append((env.render(mode='rgb_array'), quality(state).detach().numpy()))\n",
    "    training_history.append(game_reward)\n",
    "    if (n+1)%0 == 0:\n",
    "        target_Q = copy.deepcopy(Q)\n",
    "        print(\"Finished playing \", n+1, \" games.\")"
   ]
  },
  {
   "cell_type": "code",
   "execution_count": 20,
   "metadata": {},
   "outputs": [
    {
     "data": {
      "text/plain": [
       "[<matplotlib.lines.Line2D at 0x111da3e80>]"
      ]
     },
     "execution_count": 20,
     "metadata": {},
     "output_type": "execute_result"
    },
    {
     "data": {
      "image/png": "[encoded data removed]",
      "text/plain": [
       "<Figure size 432x288 with 1 Axes>"
      ]
     },
     "metadata": {
      "needs_background": "light"
     },
     "output_type": "display_data"
    }
   ],
   "source": [
    "import matplotlib.pyplot as plt\n",
    "%matplotlib inline\n",
    "\n",
    "plt.plot(training_history)"
   ]
  },
  {
   "cell_type": "code",
   "execution_count": 9,
   "metadata": {},
   "outputs": [
    {
     "ename": "IndexError",
     "evalue": "list index out of range",
     "output_type": "error",
     "traceback": [
      "\u001b[0;31m---------------------------------------------------------------------------\u001b[0m",
      "\u001b[0;31mIndexError\u001b[0m                                Traceback (most recent call last)",
      "\u001b[0;32m<ipython-input-9-46c86b5a894b>\u001b[0m in \u001b[0;36m<module>\u001b[0;34m\u001b[0m\n\u001b[0;32m----> 1\u001b[0;31m \u001b[0mdisplay_frames_as_gif\u001b[0m\u001b[0;34m(\u001b[0m\u001b[0mframes\u001b[0m\u001b[0;34m)\u001b[0m\u001b[0;34m\u001b[0m\u001b[0;34m\u001b[0m\u001b[0m\n\u001b[0m",
      "\u001b[0;32m<ipython-input-2-96552f80a718>\u001b[0m in \u001b[0;36mdisplay_frames_as_gif\u001b[0;34m(frames)\u001b[0m\n\u001b[1;32m      1\u001b[0m \u001b[0;32mdef\u001b[0m \u001b[0mdisplay_frames_as_gif\u001b[0m\u001b[0;34m(\u001b[0m\u001b[0mframes\u001b[0m\u001b[0;34m)\u001b[0m\u001b[0;34m:\u001b[0m\u001b[0;34m\u001b[0m\u001b[0;34m\u001b[0m\u001b[0m\n\u001b[0;32m----> 2\u001b[0;31m     \u001b[0mpatch\u001b[0m \u001b[0;34m=\u001b[0m \u001b[0mplt\u001b[0m\u001b[0;34m.\u001b[0m\u001b[0mimshow\u001b[0m\u001b[0;34m(\u001b[0m\u001b[0mframes\u001b[0m\u001b[0;34m[\u001b[0m\u001b[0;36m0\u001b[0m\u001b[0;34m]\u001b[0m\u001b[0;34m[\u001b[0m\u001b[0;36m0\u001b[0m\u001b[0;34m]\u001b[0m\u001b[0;34m)\u001b[0m\u001b[0;34m\u001b[0m\u001b[0;34m\u001b[0m\u001b[0m\n\u001b[0m\u001b[1;32m      3\u001b[0m     \u001b[0mprint\u001b[0m\u001b[0;34m(\u001b[0m\u001b[0mframes\u001b[0m\u001b[0;34m[\u001b[0m\u001b[0;36m0\u001b[0m\u001b[0;34m]\u001b[0m\u001b[0;34m[\u001b[0m\u001b[0;36m1\u001b[0m\u001b[0;34m]\u001b[0m\u001b[0;34m)\u001b[0m\u001b[0;34m\u001b[0m\u001b[0;34m\u001b[0m\u001b[0m\n\u001b[1;32m      4\u001b[0m     \u001b[0mplt\u001b[0m\u001b[0;34m.\u001b[0m\u001b[0maxis\u001b[0m\u001b[0;34m(\u001b[0m\u001b[0;34m'off'\u001b[0m\u001b[0;34m)\u001b[0m\u001b[0;34m\u001b[0m\u001b[0;34m\u001b[0m\u001b[0m\n\u001b[1;32m      5\u001b[0m \u001b[0;34m\u001b[0m\u001b[0m\n",
      "\u001b[0;31mIndexError\u001b[0m: list index out of range"
     ]
    }
   ],
   "source": [
    "display_frames_as_gif(frames)"
   ]
  },
  {
   "cell_type": "code",
   "execution_count": null,
   "metadata": {},
   "outputs": [],
   "source": []
  }
 ],
 "metadata": {
  "kernelspec": {
   "display_name": "Python 3",
   "language": "python",
   "name": "python3"
  },
  "language_info": {
   "codemirror_mode": {
    "name": "ipython",
    "version": 3
   },
   "file_extension": ".py",
   "mimetype": "text/x-python",
   "name": "python",
   "nbconvert_exporter": "python",
   "pygments_lexer": "ipython3",
   "version": "3.7.2"
  }
 },
 "nbformat": 4,
 "nbformat_minor": 2
}
